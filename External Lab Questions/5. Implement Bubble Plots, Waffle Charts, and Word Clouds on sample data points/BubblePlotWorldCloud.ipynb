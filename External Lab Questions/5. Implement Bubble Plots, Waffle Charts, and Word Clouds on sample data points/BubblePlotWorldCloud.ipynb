{
 "cells": [
  {
   "cell_type": "markdown",
   "metadata": {},
   "source": [
    "5. Implement Bubble Plots, Waffle Charts, and Word Clouds on sample data points."
   ]
  },
  {
   "cell_type": "code",
   "execution_count": 1,
   "metadata": {},
   "outputs": [],
   "source": [
    "import matplotlib.pyplot as plt\n",
    "from wordcloud import WordCloud\n",
    "from pywaffle import Waffle\n",
    "import numpy as np\n",
    "import pandas as pd"
   ]
  },
  {
   "cell_type": "code",
   "execution_count": 2,
   "metadata": {},
   "outputs": [
    {
     "data": {
      "text/plain": [
       "<Figure size 2000x1500 with 0 Axes>"
      ]
     },
     "metadata": {},
     "output_type": "display_data"
    }
   ],
   "source": [
    "# Set up the figure layout\n",
    "fig = plt.figure(figsize=(20, 15))"
   ]
  },
  {
   "cell_type": "code",
   "execution_count": 3,
   "metadata": {},
   "outputs": [],
   "source": [
    "# 1. Bubble Plot\n",
    "# Sample data for bubble plot\n",
    "categories = ['A', 'B', 'C', 'D', 'E']\n",
    "x = [10, 20, 30, 40, 50]\n",
    "y = [5, 15, 25, 35, 45]\n",
    "bubble_sizes = [100, 300, 500, 700, 900]  # Sizes of bubbles\n"
   ]
  },
  {
   "cell_type": "code",
   "execution_count": 4,
   "metadata": {},
   "outputs": [],
   "source": [
    "ax1 = fig.add_subplot(2, 2, 1)\n",
    "scatter = ax1.scatter(x, y, s=bubble_sizes, c=['red', 'blue', 'green', 'purple', 'orange'], alpha=0.6, edgecolors=\"w\", linewidth=2)\n",
    "ax1.set_title(\"Bubble Plot\")\n",
    "ax1.set_xlabel(\"X-axis\")\n",
    "ax1.set_ylabel(\"Y-axis\")\n",
    "for i, txt in enumerate(categories):\n",
    "    ax1.annotate(txt, (x[i], y[i]))"
   ]
  },
  {
   "cell_type": "code",
   "execution_count": 5,
   "metadata": {},
   "outputs": [],
   "source": [
    " # Waffle Chart\n",
    "# Sample data for waffle chart\n",
    "data = {'Category A': 30, 'Category B': 20, 'Category C': 50}"
   ]
  },
  {
   "cell_type": "code",
   "execution_count": 9,
   "metadata": {},
   "outputs": [
    {
     "data": {
      "text/plain": [
       "Text(0.5, 1.0, 'Waffle Chart')"
      ]
     },
     "execution_count": 9,
     "metadata": {},
     "output_type": "execute_result"
    }
   ],
   "source": [
    "ax2 = fig.add_subplot(2, 2, 2)\n",
    "waffle_chart = Waffle(rows=5, values=data, colors=['#FF5733', '#33FF57', '#3357FF'], legend={'loc': 'upper left', 'bbox_to_anchor': (1.05, 1)}, figsize=(5, 5))\n",
    "ax2.axis('off')  # Waffle is self-contained\n",
    "\n",
    "ax2.set_title(\"Waffle Chart\")"
   ]
  },
  {
   "cell_type": "code",
   "execution_count": 7,
   "metadata": {},
   "outputs": [],
   "source": [
    "# 3. Word Cloud\n",
    "# Sample text data\n",
    "text = \"\"\"Data visualization reveals patterns, trends, and insights. \n",
    "Bubble plots show relationships, waffle charts simplify distributions, \n",
    "and word clouds highlight key terms.\"\"\"\n",
    "\n",
    "wordcloud = WordCloud(width=800, height=400, background_color='white').generate(text)\n"
   ]
  },
  {
   "cell_type": "code",
   "execution_count": 8,
   "metadata": {},
   "outputs": [
    {
     "data": {
      "text/plain": [
       "<Figure size 640x480 with 0 Axes>"
      ]
     },
     "metadata": {},
     "output_type": "display_data"
    }
   ],
   "source": [
    "ax3 = fig.add_subplot(2, 1, 2)\n",
    "ax3.imshow(wordcloud, interpolation='bilinear')\n",
    "ax3.axis('off')\n",
    "ax3.set_title(\"Word Cloud\")\n",
    "\n",
    "# Adjust layout and show all plots\n",
    "plt.tight_layout()\n",
    "plt.show()"
   ]
  }
 ],
 "metadata": {
  "kernelspec": {
   "display_name": "Python 3",
   "language": "python",
   "name": "python3"
  },
  "language_info": {
   "codemirror_mode": {
    "name": "ipython",
    "version": 3
   },
   "file_extension": ".py",
   "mimetype": "text/x-python",
   "name": "python",
   "nbconvert_exporter": "python",
   "pygments_lexer": "ipython3",
   "version": "3.11.9"
  }
 },
 "nbformat": 4,
 "nbformat_minor": 2
}
