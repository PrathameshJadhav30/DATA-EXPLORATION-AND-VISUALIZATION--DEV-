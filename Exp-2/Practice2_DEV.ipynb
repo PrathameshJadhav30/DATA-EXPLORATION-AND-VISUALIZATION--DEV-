{
  "nbformat": 4,
  "nbformat_minor": 0,
  "metadata": {
    "colab": {
      "provenance": []
    },
    "kernelspec": {
      "name": "python3",
      "display_name": "Python 3"
    },
    "language_info": {
      "name": "python"
    }
  },
  "cells": [
    {
      "cell_type": "markdown",
      "source": [
        "Q1. Write a Python script to load the Iris dataset using sklearn.datasets.load_iris. Explore  the dataset by printing the feature names, target names, and the first five rows of the dataset."
      ],
      "metadata": {
        "id": "kl5Fv_9WdHqR"
      }
    },
    {
      "cell_type": "code",
      "source": [
        "from sklearn.datasets import load_iris\n",
        "import pandas as pd"
      ],
      "metadata": {
        "id": "cEtgaj8IdLPX"
      },
      "execution_count": null,
      "outputs": []
    },
    {
      "cell_type": "code",
      "source": [
        "iris = load_iris()"
      ],
      "metadata": {
        "id": "6FX_gsVCdXor"
      },
      "execution_count": null,
      "outputs": []
    },
    {
      "cell_type": "code",
      "source": [
        "iris_df = pd.DataFrame(data=iris.data, columns=iris.feature_names)\n",
        "iris_df['target'] = iris.target\n",
        "print(\"Feature names:\", iris.feature_names)\n",
        "print(\"Target names:\", iris.target_names)\n",
        "print(\"\\nFirst five rows of the dataset:\")\n",
        "print(iris_df.head())"
      ],
      "metadata": {
        "colab": {
          "base_uri": "https://localhost:8080/"
        },
        "id": "rDurS69EdaWY",
        "outputId": "068df0f6-0f7b-4ed7-92ab-92fd43728236"
      },
      "execution_count": null,
      "outputs": [
        {
          "output_type": "stream",
          "name": "stdout",
          "text": [
            "Feature names: ['sepal length (cm)', 'sepal width (cm)', 'petal length (cm)', 'petal width (cm)']\n",
            "Target names: ['setosa' 'versicolor' 'virginica']\n",
            "\n",
            "First five rows of the dataset:\n",
            "   sepal length (cm)  sepal width (cm)  petal length (cm)  petal width (cm)  \\\n",
            "0                5.1               3.5                1.4               0.2   \n",
            "1                4.9               3.0                1.4               0.2   \n",
            "2                4.7               3.2                1.3               0.2   \n",
            "3                4.6               3.1                1.5               0.2   \n",
            "4                5.0               3.6                1.4               0.2   \n",
            "\n",
            "   target  \n",
            "0       0  \n",
            "1       0  \n",
            "2       0  \n",
            "3       0  \n",
            "4       0  \n"
          ]
        }
      ]
    },
    {
      "cell_type": "markdown",
      "source": [
        "Q2. Apply Min-Max scaling to the features of the training set to transform the data to a range  between 0 and 1. Then, apply the same transformation to the test set.\n"
      ],
      "metadata": {
        "id": "b7TYVnJsdon-"
      }
    },
    {
      "cell_type": "code",
      "source": [
        "from sklearn.datasets import load_iris\n",
        "from sklearn.model_selection import train_test_split\n",
        "from sklearn.preprocessing import MinMaxScaler\n",
        "import pandas as pd\n",
        "\n",
        "iris = load_iris()\n",
        "X_train, X_test, y_train, y_test = train_test_split(iris.data, iris.target, test_size=0.2, random_state=42)\n",
        "\n",
        "scaler = MinMaxScaler()\n",
        "\n",
        "X_train_scaled = scaler.fit_transform(X_train)\n",
        "\n",
        "X_test_scaled = scaler.transform(X_test)\n",
        "\n",
        "X_train_scaled_df = pd.DataFrame(X_train_scaled, columns=iris.feature_names)\n",
        "X_test_scaled_df = pd.DataFrame(X_test_scaled, columns=iris.feature_names)\n",
        "\n",
        "print(\"First five rows of the scaled training set:\")\n",
        "print(X_train_scaled_df.head())\n",
        "\n",
        "print(\"\\nFirst five rows of the scaled test set:\")\n",
        "print(X_test_scaled_df.head())\n"
      ],
      "metadata": {
        "colab": {
          "base_uri": "https://localhost:8080/"
        },
        "id": "jvWUZNa9dqak",
        "outputId": "3f0fc517-a494-4edd-9e96-d1ecffa3a8de"
      },
      "execution_count": null,
      "outputs": [
        {
          "output_type": "stream",
          "name": "stdout",
          "text": [
            "First five rows of the scaled training set:\n",
            "   sepal length (cm)  sepal width (cm)  petal length (cm)  petal width (cm)\n",
            "0           0.088235          0.666667           0.000000          0.041667\n",
            "1           0.411765          1.000000           0.087719          0.125000\n",
            "2           0.705882          0.458333           0.596491          0.541667\n",
            "3           0.147059          0.583333           0.105263          0.041667\n",
            "4           0.029412          0.500000           0.052632          0.041667\n",
            "\n",
            "First five rows of the scaled test set:\n",
            "   sepal length (cm)  sepal width (cm)  petal length (cm)  petal width (cm)\n",
            "0           0.529412          0.333333           0.649123          0.458333\n",
            "1           0.411765          0.750000           0.122807          0.083333\n",
            "2           1.000000          0.250000           1.035088          0.916667\n",
            "3           0.500000          0.375000           0.614035          0.583333\n",
            "4           0.735294          0.333333           0.666667          0.541667\n"
          ]
        }
      ]
    },
    {
      "cell_type": "markdown",
      "source": [
        "Q3. Apply standardization to the features of the training set so that they have a mean of 0 and a  standard deviation of 1. Then, apply the same transformation to the test set."
      ],
      "metadata": {
        "id": "E0ltp7iheKT7"
      }
    },
    {
      "cell_type": "code",
      "source": [
        "from sklearn.datasets import load_iris\n",
        "from sklearn.model_selection import train_test_split\n",
        "from sklearn.preprocessing import StandardScaler\n",
        "import pandas as pd\n",
        "\n",
        "iris = load_iris()\n",
        "\n",
        "X_train, X_test, y_train, y_test = train_test_split(iris.data, iris.target, test_size=0.2, random_state=42)\n",
        "scaler = StandardScaler()\n",
        "X_train_scaled = scaler.fit_transform(X_train)\n",
        "X_test_scaled = scaler.transform(X_test)\n",
        "X_train_scaled_df = pd.DataFrame(X_train_scaled, columns=iris.feature_names)\n",
        "X_test_scaled_df = pd.DataFrame(X_test_scaled, columns=iris.feature_names)\n",
        "print(\"First five rows of the standardized training set:\")\n",
        "print(X_train_scaled_df.head())\n",
        "print(\"\\nFirst five rows of the standardized test set:\")\n",
        "print(X_test_scaled_df.head())\n"
      ],
      "metadata": {
        "colab": {
          "base_uri": "https://localhost:8080/"
        },
        "id": "mV6sOiySeMnz",
        "outputId": "5b93e996-043a-4551-8e64-56fed88497bd"
      },
      "execution_count": null,
      "outputs": [
        {
          "output_type": "stream",
          "name": "stdout",
          "text": [
            "First five rows of the standardized training set:\n",
            "   sepal length (cm)  sepal width (cm)  petal length (cm)  petal width (cm)\n",
            "0          -1.473937          1.203658          -1.562535         -1.312603\n",
            "1          -0.133071          2.992376          -1.276006         -1.045633\n",
            "2           1.085898          0.085709           0.385858          0.289218\n",
            "3          -1.230143          0.756479          -1.218701         -1.312603\n",
            "4          -1.717731          0.309299          -1.390618         -1.312603\n",
            "\n",
            "First five rows of the standardized test set:\n",
            "   sepal length (cm)  sepal width (cm)  petal length (cm)  petal width (cm)\n",
            "0           0.354517         -0.585060           0.557775          0.022248\n",
            "1          -0.133071          1.650837          -1.161395         -1.179118\n",
            "2           2.304867         -1.032239           1.818500          1.490583\n",
            "3           0.232620         -0.361470           0.443164          0.422703\n",
            "4           1.207795         -0.585060           0.615081          0.289218\n"
          ]
        }
      ]
    },
    {
      "cell_type": "markdown",
      "source": [
        "Q4.  After applying Min-Max scaling and standardization to the training set, compare the mean and  standard"
      ],
      "metadata": {
        "id": "UkCYp8MYenq_"
      }
    },
    {
      "cell_type": "code",
      "source": [
        "from sklearn.datasets import load_iris\n",
        "from sklearn.model_selection import train_test_split\n",
        "from sklearn.preprocessing import MinMaxScaler, StandardScaler\n",
        "import pandas as pd\n",
        "\n",
        "iris = load_iris()\n",
        "\n",
        "X_train, X_test, y_train, y_test = train_test_split(iris.data, iris.target, test_size=0.2, random_state=42)\n",
        "min_max_scaler = MinMaxScaler()\n",
        "standard_scaler = StandardScaler()\n",
        "X_train_minmax = min_max_scaler.fit_transform(X_train)\n",
        "X_train_standard = standard_scaler.fit_transform(X_train)\n",
        "original_df = pd.DataFrame(X_train, columns=iris.feature_names)\n",
        "minmax_df = pd.DataFrame(X_train_minmax, columns=iris.feature_names)\n",
        "standard_df = pd.DataFrame(X_train_standard, columns=iris.feature_names)\n",
        "comparison_df = pd.DataFrame({\n",
        "    'Feature': iris.feature_names,\n",
        "    'Original Mean': original_df.mean(),\n",
        "    'Original Std': original_df.std(),\n",
        "    'Min-Max Scaled Mean': minmax_df.mean(),\n",
        "    'Min-Max Scaled Std': minmax_df.std(),\n",
        "    'Standardized Mean': standard_df.mean(),\n",
        "    'Standardized Std': standard_df.std(),\n",
        "})\n",
        "print(comparison_df)\n"
      ],
      "metadata": {
        "colab": {
          "base_uri": "https://localhost:8080/"
        },
        "id": "Czjy_V0-eqve",
        "outputId": "1daa128f-732e-4729-bcd1-9b801a6726f6"
      },
      "execution_count": null,
      "outputs": [
        {
          "output_type": "stream",
          "name": "stdout",
          "text": [
            "                             Feature  Original Mean  Original Std  \\\n",
            "sepal length (cm)  sepal length (cm)       5.809167      0.823805   \n",
            "sepal width (cm)    sepal width (cm)       3.061667      0.449123   \n",
            "petal length (cm)  petal length (cm)       3.726667      1.752345   \n",
            "petal width (cm)    petal width (cm)       1.183333      0.752289   \n",
            "\n",
            "                   Min-Max Scaled Mean  Min-Max Scaled Std  Standardized Mean  \\\n",
            "sepal length (cm)             0.443873            0.242296       1.713444e-15   \n",
            "sepal width (cm)              0.442361            0.187135      -1.665797e-15   \n",
            "petal length (cm)             0.478363            0.307429      -2.238950e-16   \n",
            "petal width (cm)              0.451389            0.313454      -5.736152e-17   \n",
            "\n",
            "                   Standardized Std  \n",
            "sepal length (cm)          1.004193  \n",
            "sepal width (cm)           1.004193  \n",
            "petal length (cm)          1.004193  \n",
            "petal width (cm)           1.004193  \n"
          ]
        }
      ]
    }
  ]
}